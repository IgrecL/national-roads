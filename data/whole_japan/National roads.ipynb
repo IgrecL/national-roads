{
 "cells": [
  {
   "cell_type": "markdown",
   "metadata": {},
   "source": [
    "### NCN WAYS"
   ]
  },
  {
   "cell_type": "code",
   "execution_count": 11,
   "metadata": {
    "collapsed": false,
    "jupyter": {
     "outputs_hidden": false
    }
   },
   "outputs": [
    {
     "name": "stdout",
     "output_type": "stream",
     "text": [
      "1.0M\n",
      "2.0M\n",
      "3.0M\n",
      "4.0M\n",
      "5.0M\n",
      "6.0M\n",
      "7.0M\n",
      "8.0M\n",
      "9.0M\n",
      "10.0M\n",
      "11.0M\n",
      "12.0M\n",
      "13.0M\n"
     ]
    }
   ],
   "source": [
    "import xml.etree.ElementTree as ET\n",
    "import json       \n",
    "\n",
    "index=2\n",
    "\n",
    "ways=[]\n",
    "\n",
    "def process_element(el):\n",
    "    if el.tag==\"way\":\n",
    "        print(\"Found way \"+el.attrib[\"id\"])\n",
    "        ways.append({\n",
    "            \"id\": int(el.attrib['id']),\n",
    "            \"nodes\": [int(nd.attrib[\"ref\"]) for nd in el if nd.tag==\"nd\"],\n",
    "            \"tags\": {tag.attrib[\"k\"]: tag.attrib[\"v\"] for tag in el if tag.tag==\"tag\"}\n",
    "        }) \n",
    "\n",
    "# Parse the XML file\n",
    "with open('whole_japan/national-roads.xml', 'rb') as file:\n",
    "    context = ET.iterparse(file, events=('start', 'end'))\n",
    "\n",
    "    # Iterate over the elements\n",
    "    counter = 0\n",
    "    for event, element in context:\n",
    "        if event == 'start':\n",
    "            process_element(element)\n",
    "            element.clear()\n",
    "            counter += 1\n",
    "            counter += 1\n",
    "            if counter % 1000000 == 0:\n",
    "                print(str(counter/1000000)+\"M\")\n",
    "\n",
    "with open('whole_japan/ncn_ways.json', 'w') as file:\n",
    "    json.dump(ways, file)\n",
    "    "
   ]
  },
  {
   "cell_type": "markdown",
   "metadata": {},
   "source": [
    "### NCN NODES"
   ]
  },
  {
   "cell_type": "code",
   "execution_count": 3,
   "metadata": {},
   "outputs": [
    {
     "name": "stdout",
     "output_type": "stream",
     "text": [
      "1.0M\n",
      "2.0M\n",
      "3.0M\n",
      "4.0M\n",
      "5.0M\n",
      "6.0M\n",
      "7.0M\n",
      "8.0M\n",
      "9.0M\n",
      "10.0M\n",
      "11.0M\n",
      "12.0M\n",
      "13.0M\n",
      "517\n"
     ]
    }
   ],
   "source": [
    "import xml.etree.ElementTree as ET\n",
    "import json       \n",
    "\n",
    "index=3\n",
    "\n",
    "nodes=[]\n",
    "\n",
    "with open('data/ncn_nodes_indices.json', 'r') as file:\n",
    "    ids = json.load(file)\n",
    "\n",
    "def process_element(el):\n",
    "    if el.tag==\"node\" and int(el.attrib[\"id\"]) in ids:\n",
    "        nodes.append({\n",
    "            \"id\": int(el.attrib['id']),\n",
    "            \"lat\": float(el.attrib['lat']),\n",
    "            \"lon\": float(el.attrib['lon']),\n",
    "            \"tags\": {tag.attrib[\"k\"]: tag.attrib[\"v\"] for tag in el}\n",
    "        }) \n",
    "\n",
    "# Parse the XML file\n",
    "with open('split/kansai-split'+str(index)+'.osm', 'rb') as file:\n",
    "    context = ET.iterparse(file, events=('start', 'end'))\n",
    "\n",
    "    # Iterate over the elements\n",
    "    counter = 0\n",
    "    for event, element in context:\n",
    "        if event == 'start':\n",
    "            process_element(element)\n",
    "            element.clear()\n",
    "            counter += 1\n",
    "            if counter % 1000000 == 0:\n",
    "                print(str(counter/1000000)+\"M\")\n",
    "\n",
    "print(len(nodes))\n",
    "\n",
    "with open('data/ncn_nodes'+str(index)+'.json', 'w') as file:\n",
    "    json.dump(nodes, file)\n",
    "    "
   ]
  }
 ],
 "metadata": {
  "kernelspec": {
   "display_name": "Python 3 (ipykernel)",
   "language": "python",
   "name": "python3"
  },
  "language_info": {
   "codemirror_mode": {
    "name": "ipython",
    "version": 3
   },
   "file_extension": ".py",
   "mimetype": "text/x-python",
   "name": "python",
   "nbconvert_exporter": "python",
   "pygments_lexer": "ipython3",
   "version": "3.11.8"
  }
 },
 "nbformat": 4,
 "nbformat_minor": 4
}
