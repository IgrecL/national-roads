{
 "cells": [
  {
   "cell_type": "code",
   "execution_count": 22,
   "metadata": {
    "collapsed": false,
    "jupyter": {
     "outputs_hidden": false
    }
   },
   "outputs": [],
   "source": [
    "import pandas as pd\n",
    "import pandas_read_xml as pdx\n",
    "import numpy as np\n",
    "\n",
    "df = pd.read_xml(\"test.osm\")\n",
    "# nodes = df[:df[df[\"id\"]==2569].index[0]]\n",
    "# way = df[df[df[\"id\"]==2569].index[0]:]\n",
    "\n",
    "# nodes = nodes.set_index(\"id\")\n",
    "# nodes.index = nodes.index.astype(int)\n",
    "\n",
    "# nodes = nodes.drop(columns=[\"tag\", \"nd\"])\n",
    "# way = way.drop(columns=[\"lat\", \"lon\", \"tag\", \"nd\"])\n",
    "# way = way.set_index(\"id\")\n",
    "# way.index = way.index.astype(int)"
   ]
  },
  {
   "cell_type": "code",
   "execution_count": 26,
   "metadata": {},
   "outputs": [],
   "source": [
    "\n"
   ]
  },
  {
   "cell_type": "code",
   "execution_count": 21,
   "metadata": {},
   "outputs": [
    {
     "data": {
      "text/plain": [
       "Series([], Name: tag, dtype: float64)"
      ]
     },
     "execution_count": 21,
     "metadata": {},
     "output_type": "execute_result"
    }
   ],
   "source": []
  },
  {
   "cell_type": "code",
   "execution_count": 1,
   "metadata": {
    "collapsed": false,
    "jupyter": {
     "outputs_hidden": false
    }
   },
   "outputs": [],
   "source": [
    "import xml.etree.ElementTree as ET\n",
    "\n",
    "tree = ET.parse('test.osm')\n",
    "root = tree.getroot()"
   ]
  },
  {
   "cell_type": "markdown",
   "metadata": {
    "collapsed": false,
    "jupyter": {
     "outputs_hidden": false
    }
   },
   "source": [
    "# Nodes"
   ]
  },
  {
   "cell_type": "code",
   "execution_count": 6,
   "metadata": {
    "collapsed": false,
    "jupyter": {
     "outputs_hidden": false
    },
    "scrolled": true
   },
   "outputs": [
    {
     "name": "stdout",
     "output_type": "stream",
     "text": [
      "{'id': 224811748, 'lat': 35.003691, 'lon': 135.7523955, 'tags': {'crossing': 'traffic_signals', 'highway': 'crossing', 'tactile_paving': 'yes'}}\n"
     ]
    }
   ],
   "source": [
    "#Retrieving nodes\n",
    "nodes=[]\n",
    "for child in root:\n",
    "    if (child.tag==\"node\"):\n",
    "        nodes.append({\n",
    "            \"id\": int(child.attrib['id']),\n",
    "            \"lat\": float(child.attrib['lat']),\n",
    "            \"lon\": float(child.attrib['lon']),\n",
    "            \"tags\": {tag.attrib[\"k\"]: tag.attrib[\"v\"] for tag in child}\n",
    "        })\n",
    "print(nodes[2])"
   ]
  },
  {
   "cell_type": "code",
   "execution_count": null,
   "metadata": {
    "collapsed": false,
    "jupyter": {
     "outputs_hidden": false
    }
   },
   "outputs": [],
   "source": [
    "na_list={}\n",
    "n_nodes = 439986\n",
    "for col in nodes.columns:\n",
    "    nan_n = n_nodes - ((nodes[col] == \"nan\")|(nodes[col] == \"n\")|(nodes[col] == \"na\")).sum()\n",
    "    #if nan_n <= 436352:\n",
    "    na_list[col] = nan_n\n",
    "    \n",
    "del na_list[\"lat\"]\n",
    "del na_list[\"lon\"]\n",
    "\n",
    "import matplotlib.pyplot as plt"
   ]
  },
  {
   "cell_type": "code",
   "execution_count": null,
   "metadata": {
    "collapsed": false,
    "jupyter": {
     "outputs_hidden": false
    }
   },
   "outputs": [
    {
     "data": {
      "image/png": "[encoded data removed]",
      "text/plain": [
       "<Figure size 14400x360 with 1 Axes>"
      ]
     },
     "metadata": {
      "needs_background": "light"
     },
     "output_type": "display_data"
    },
    {
     "name": "stdout",
     "output_type": "stream",
     "text": [
      "number of nodes :  439986\n"
     ]
    }
   ],
   "source": [
    "def plot_dict(dic):\n",
    "    # Sort the dictionary items based on values\n",
    "    sorted_items = sorted(dic.items(), key=lambda x: x[1])\n",
    "    \n",
    "    # Extract sorted keys and values\n",
    "    sorted_keys = [item[0] for item in sorted_items][::-1]\n",
    "    sorted_values = [item[1] for item in sorted_items][::-1]\n",
    "    \n",
    "    plt.figure(figsize=(200,5))\n",
    "    plt.bar(sorted_keys, sorted_values)\n",
    "    plt.xlabel('Columns')\n",
    "    plt.ylabel('Unique IDs')\n",
    "    plt.title('Unique IDs for Each Column')\n",
    "    plt.xticks(rotation=45, ha='right')  # Rotate x-axis labels for better visibility\n",
    "    plt.show()\n",
    "\n",
    "plot_dict(na_list)\n",
    "print(\"number of nodes : \", nodes.shape[0])"
   ]
  },
  {
   "cell_type": "markdown",
   "metadata": {
    "collapsed": false,
    "jupyter": {
     "outputs_hidden": false
    }
   },
   "source": [
    "# Ways"
   ]
  },
  {
   "cell_type": "code",
   "execution_count": null,
   "metadata": {
    "collapsed": false,
    "jupyter": {
     "outputs_hidden": false
    },
    "scrolled": true
   },
   "outputs": [
    {
     "name": "stderr",
     "output_type": "stream",
     "text": [
      "WARNING: Some output was deleted.\n"
     ]
    }
   ],
   "source": [
    "#Retrieving way info\n",
    "way_features=[]\n",
    "nodes_in_way={key: {\"nodes\" : []} for key in way.index.values}\n",
    "\n",
    "for child in root:\n",
    "    #print(child.attrib[\"id\"])\n",
    "    for schild in child:\n",
    "        if (child.tag==\"way\")&(schild.tag == \"nd\"):\n",
    "            nodes_in_way[int(child.attrib['id'])][\"nodes\"] = nodes_in_way[int(child.attrib['id'])][\"nodes\"] + [schild.attrib[\"ref\"]]\n",
    "\n",
    "        if (child.tag==\"way\")&(schild.tag == \"tag\"):\n",
    "            nodes_in_way[int(child.attrib['id'])][schild.attrib[\"k\"]] = schild.attrib[\"v\"]\n",
    "            \n",
    "for key, sub_dic in nodes_in_way.items():\n",
    "    for features, value in sub_dic.items():\n",
    "        way.at[key, features] = value"
   ]
  },
  {
   "cell_type": "code",
   "execution_count": null,
   "metadata": {
    "collapsed": false,
    "jupyter": {
     "outputs_hidden": false
    }
   },
   "outputs": [],
   "source": [
    "na_list2={}\n",
    "n_way = way.shape[0]\n",
    "for col in way.columns:\n",
    "    nan_n = n_way - ((way[col] == \"nan\")|(way[col] == \"na\")|(way[col] == \"n\")).sum()\n",
    "    #if nan_n <= 436352:\n",
    "    na_list2[col] = nan_n\n"
   ]
  },
  {
   "cell_type": "code",
   "execution_count": null,
   "metadata": {
    "collapsed": false,
    "jupyter": {
     "outputs_hidden": false
    }
   },
   "outputs": [
    {
     "data": {
      "image/png": "[encoded data removed]",
      "text/plain": [
       "<Figure size 14400x360 with 1 Axes>"
      ]
     },
     "metadata": {
      "needs_background": "light"
     },
     "output_type": "display_data"
    },
    {
     "name": "stdout",
     "output_type": "stream",
     "text": [
      "number of road :  121524\n"
     ]
    }
   ],
   "source": [
    "plot_dict(na_list2)\n",
    "print(\"number of road : \", way.shape[0])"
   ]
  },
  {
   "cell_type": "markdown",
   "metadata": {
    "collapsed": false,
    "jupyter": {
     "outputs_hidden": false
    }
   },
   "source": [
    "# Feature selection"
   ]
  },
  {
   "cell_type": "code",
   "execution_count": null,
   "metadata": {
    "collapsed": false,
    "jupyter": {
     "outputs_hidden": false
    }
   },
   "outputs": [],
   "source": [
    "nodes_sel = nodes[[\"lat\", \"lon\", \"bicycle\", \"cycleway\", \"traffic_calming\"]]\n",
    "\n",
    "way_sel = way[[\"nodes\", \"cycleway\", \"bicycle\", \"cyclestreet\", \"maxspeed\", \"surface\", \"tracktype\",\n",
    "                \"smoothness\", \"traffic_calming\", \"lanes\", \"width\", \"shoulder\", \"maxheight\", \"hgv\", \"motor_vehicle\"]]"
   ]
  },
  {
   "cell_type": "code",
   "execution_count": null,
   "metadata": {
    "collapsed": false,
    "jupyter": {
     "outputs_hidden": false
    }
   },
   "outputs": [],
   "source": [
    "way_sel.to_csv(\"./ways_feature.csv\", index=True)\n",
    "nodes_sel.to_csv(\"./nodes_feature.csv\", index=True)"
   ]
  }
 ],
 "metadata": {
  "kernelspec": {
   "display_name": "Python 3 (ipykernel)",
   "language": "python",
   "name": "python3"
  },
  "language_info": {
   "codemirror_mode": {
    "name": "ipython",
    "version": 3
   },
   "file_extension": ".py",
   "mimetype": "text/x-python",
   "name": "python",
   "nbconvert_exporter": "python",
   "pygments_lexer": "ipython3",
   "version": "3.11.8"
  }
 },
 "nbformat": 4,
 "nbformat_minor": 4
}
