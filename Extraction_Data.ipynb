{
 "cells": [
  {
   "cell_type": "code",
   "execution_count": 12,
   "metadata": {
    "collapsed": false,
    "jupyter": {
     "outputs_hidden": false
    }
   },
   "outputs": [],
   "source": [
    "import xml.etree.ElementTree as ET\n",
    "\n",
    "tree = ET.parse('testrelations.osm')\n",
    "root = tree.getroot()"
   ]
  },
  {
   "cell_type": "code",
   "execution_count": 13,
   "metadata": {
    "collapsed": false,
    "jupyter": {
     "outputs_hidden": false
    },
    "scrolled": true
   },
   "outputs": [
    {
     "name": "stdout",
     "output_type": "stream",
     "text": [
      "{'id': 17472240, 'nodes': [], 'ways': [1272666941, 1272667948, 1272668085, 1272668210, 1272667220], 'tags': {'building': 'public', 'building:levels': '3', 'ele': '9.6', 'height': '9.7', 'type': 'building'}}\n"
     ]
    }
   ],
   "source": [
    "#Retrieving nodes\n",
    "nodes=[]\n",
    "ways=[]\n",
    "relations=[]\n",
    "for child in root:\n",
    "    if (child.tag==\"node\"):\n",
    "        nodes.append({\n",
    "            \"id\": int(child.attrib['id']),\n",
    "            \"lat\": float(child.attrib['lat']),\n",
    "            \"lon\": float(child.attrib['lon']),\n",
    "            \"tags\": {tag.attrib[\"k\"]: tag.attrib[\"v\"] for tag in child}\n",
    "        })\n",
    "    if (child.tag==\"way\"):\n",
    "        ways.append({\n",
    "            \"id\": int(child.attrib['id']),\n",
    "            \"nodes\": [int(nd.attrib[\"ref\"]) for nd in child if nd.tag==\"nd\"],\n",
    "            \"tags\": {tag.attrib[\"k\"]: tag.attrib[\"v\"] for tag in child if tag.tag==\"tag\"}\n",
    "        }) \n",
    "    if (child.tag==\"relation\"):\n",
    "        relations.append({\n",
    "            \"id\": int(child.attrib['id']),\n",
    "            \"nodes\": [int(nd.attrib[\"ref\"]) for nd in child if nd.tag==\"member\" and nd.attrib[\"type\"]==\"node\"],\n",
    "            \"ways\": [int(nd.attrib[\"ref\"]) for nd in child if nd.tag==\"member\" and nd.attrib[\"type\"]==\"way\"],\n",
    "            \"tags\": {tag.attrib[\"k\"]: tag.attrib[\"v\"] for tag in child if tag.tag==\"tag\"}\n",
    "        })\n",
    "\n",
    "print(relations[2])"
   ]
  }
 ],
 "metadata": {
  "kernelspec": {
   "display_name": "Python 3 (ipykernel)",
   "language": "python",
   "name": "python3"
  },
  "language_info": {
   "codemirror_mode": {
    "name": "ipython",
    "version": 3
   },
   "file_extension": ".py",
   "mimetype": "text/x-python",
   "name": "python",
   "nbconvert_exporter": "python",
   "pygments_lexer": "ipython3",
   "version": "3.11.8"
  }
 },
 "nbformat": 4,
 "nbformat_minor": 4
}
