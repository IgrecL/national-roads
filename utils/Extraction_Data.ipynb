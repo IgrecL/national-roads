{
 "cells": [
  {
   "cell_type": "code",
   "execution_count": 4,
   "metadata": {
    "collapsed": false,
    "jupyter": {
     "outputs_hidden": false
    }
   },
   "outputs": [],
   "source": [
    "import xml.etree.ElementTree as ET\n",
    "import json\n",
    "\n",
    "index=4\n",
    "\n",
    "nodes=[]\n",
    "ways=[]\n",
    "relations=[]\n",
    "\n",
    "def process_element(el):\n",
    "    if el.tag==\"node\":\n",
    "        nodes.append({\n",
    "            \"id\": int(el.attrib['id']),\n",
    "            \"lat\": float(el.attrib['lat']),\n",
    "            \"lon\": float(el.attrib['lon']),\n",
    "            \"tags\": {tag.attrib[\"k\"]: tag.attrib[\"v\"] for tag in el}\n",
    "        })\n",
    "    if el.tag==\"way\":\n",
    "        ways.append({\n",
    "            \"id\": int(el.attrib['id']),\n",
    "            \"nodes\": [int(nd.attrib[\"ref\"]) for nd in el if nd.tag==\"nd\"],\n",
    "            \"tags\": {tag.attrib[\"k\"]: tag.attrib[\"v\"] for tag in el if tag.tag==\"tag\"}\n",
    "        }) \n",
    "    if el.tag==\"relation\":\n",
    "        relations.append({\n",
    "            \"id\": int(el.attrib['id']),\n",
    "            \"nodes\": [int(nd.attrib[\"ref\"]) for nd in el if nd.tag==\"member\" and nd.attrib[\"type\"]==\"node\"],\n",
    "            \"ways\": [int(nd.attrib[\"ref\"]) for nd in el if nd.tag==\"member\" and nd.attrib[\"type\"]==\"way\"],\n",
    "            \"tags\": {tag.attrib[\"k\"]: tag.attrib[\"v\"] for tag in el if tag.tag==\"tag\"}\n",
    "        })\n",
    "\n",
    "# Parse the XML file\n",
    "with open('ncn_japan/ncn_japan.xml', 'rb') as file:\n",
    "    context = ET.iterparse(file, events=('start', 'end'))\n",
    "\n",
    "    # Iterate over the elements\n",
    "    counter = 0\n",
    "    for event, element in context:\n",
    "        if event == 'start':\n",
    "            process_element(element)\n",
    "            element.clear()\n",
    "            counter += 1\n",
    "            if counter % 100000 == 0:\n",
    "                print(float(counter), \" lines\")\n",
    "    \n",
    "\n",
    "with open('ncn_japan/nodes'+'.json', 'w') as file:\n",
    "    json.dump(nodes, file)\n",
    "with open('ncn_japan/ways'+'.json', 'w') as file:\n",
    "    json.dump(ways, file)\n",
    "with open('ncn_japan/relations'+'.json', 'w') as file:\n",
    "    json.dump(relations, file)"
   ]
  }
 ],
 "metadata": {
  "kernelspec": {
   "display_name": "Python 3 (ipykernel)",
   "language": "python",
   "name": "python3"
  },
  "language_info": {
   "codemirror_mode": {
    "name": "ipython",
    "version": 3
   },
   "file_extension": ".py",
   "mimetype": "text/x-python",
   "name": "python",
   "nbconvert_exporter": "python",
   "pygments_lexer": "ipython3",
   "version": "3.12.3"
  }
 },
 "nbformat": 4,
 "nbformat_minor": 4
}
